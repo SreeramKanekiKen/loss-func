{
  "nbformat": 4,
  "nbformat_minor": 0,
  "metadata": {
    "colab": {
      "provenance": []
    },
    "kernelspec": {
      "name": "python3",
      "display_name": "Python 3"
    },
    "language_info": {
      "name": "python"
    }
  },
  "cells": [
    {
      "cell_type": "code",
      "execution_count": 1,
      "metadata": {
        "id": "jDmDa9iM-dc2"
      },
      "outputs": [],
      "source": [
        "import numpy as np\n",
        "y_true=np.array([0.30,0.7,1,0,0.5])\n",
        "y_predicted=np.array([1,1,0,0,1])"
      ]
    },
    {
      "cell_type": "code",
      "source": [
        "def mae(y_true, y_predicted):\n",
        "  total_error=0\n",
        "  for yt, yp in zip(y_true, y_predicted):\n",
        "    total_error+=abs(yt-yp)\n",
        "  print('Total error: ', total_error)\n",
        "  mean=total_error/len(y_true)\n",
        "  print('MAE: ',mean)"
      ],
      "metadata": {
        "id": "5nl9P0aK_Iyv"
      },
      "execution_count": 10,
      "outputs": []
    },
    {
      "cell_type": "code",
      "source": [
        "mae(y_true, y_predicted)"
      ],
      "metadata": {
        "colab": {
          "base_uri": "https://localhost:8080/"
        },
        "id": "wNdnZt5QACwY",
        "outputId": "a4bf43da-6d88-43f8-a27c-9a0e53dfd9df"
      },
      "execution_count": 11,
      "outputs": [
        {
          "output_type": "stream",
          "name": "stdout",
          "text": [
            "Total error:  2.5\n",
            "MAE:  0.5\n"
          ]
        }
      ]
    },
    {
      "cell_type": "code",
      "source": [
        "def mse(y_true, y_predicted):\n",
        "  total_error=0\n",
        "  for yt, yp in zip(y_true, y_predicted):\n",
        "    total_error+=(yt-yp)**2\n",
        "  print('Total squared error: ', total_error)\n",
        "  mean=total_error/len(y_true)\n",
        "  print('MSE: ',mean)"
      ],
      "metadata": {
        "id": "vVyoLCxBAPw2"
      },
      "execution_count": 38,
      "outputs": []
    },
    {
      "cell_type": "code",
      "source": [
        "mse(y_true, y_predicted)"
      ],
      "metadata": {
        "colab": {
          "base_uri": "https://localhost:8080/"
        },
        "id": "KX4ChtjuBVV2",
        "outputId": "af74118c-d768-44d0-de55-9260e16ca327"
      },
      "execution_count": 39,
      "outputs": [
        {
          "output_type": "stream",
          "name": "stdout",
          "text": [
            "Total squared error:  1.83\n",
            "MSE:  0.366\n"
          ]
        }
      ]
    },
    {
      "cell_type": "code",
      "source": [
        "np.mean(np.abs(y_true-y_predicted))"
      ],
      "metadata": {
        "colab": {
          "base_uri": "https://localhost:8080/"
        },
        "id": "79wvjh-vBZQJ",
        "outputId": "122a2227-5090-48ef-a89a-59668f727a5e"
      },
      "execution_count": 14,
      "outputs": [
        {
          "output_type": "execute_result",
          "data": {
            "text/plain": [
              "0.5"
            ]
          },
          "metadata": {},
          "execution_count": 14
        }
      ]
    },
    {
      "cell_type": "code",
      "source": [
        "np.mean((y_true-y_predicted)**2)"
      ],
      "metadata": {
        "colab": {
          "base_uri": "https://localhost:8080/"
        },
        "id": "SfrPNZdGDCwy",
        "outputId": "6db07cee-96c1-4cae-fe4b-06111f372d0d"
      },
      "execution_count": 15,
      "outputs": [
        {
          "output_type": "execute_result",
          "data": {
            "text/plain": [
              "0.366"
            ]
          },
          "metadata": {},
          "execution_count": 15
        }
      ]
    },
    {
      "cell_type": "code",
      "source": [
        "np.log(y_true)"
      ],
      "metadata": {
        "colab": {
          "base_uri": "https://localhost:8080/"
        },
        "id": "Aa39zAftDO5t",
        "outputId": "65dc9bd4-a1c6-4dfc-afe2-899339bc6e41"
      },
      "execution_count": 16,
      "outputs": [
        {
          "output_type": "stream",
          "name": "stderr",
          "text": [
            "<ipython-input-16-94426a63cb5b>:1: RuntimeWarning: divide by zero encountered in log\n",
            "  np.log(y_true)\n"
          ]
        },
        {
          "output_type": "execute_result",
          "data": {
            "text/plain": [
              "array([-1.2039728 , -0.35667494,  0.        ,        -inf, -0.69314718])"
            ]
          },
          "metadata": {},
          "execution_count": 16
        }
      ]
    },
    {
      "cell_type": "code",
      "source": [
        "np.log(y_predicted)"
      ],
      "metadata": {
        "colab": {
          "base_uri": "https://localhost:8080/"
        },
        "id": "fk_IL4S8FIJB",
        "outputId": "32cdaad8-f0d8-4d3b-a1c9-cab47952e3a4"
      },
      "execution_count": 17,
      "outputs": [
        {
          "output_type": "stream",
          "name": "stderr",
          "text": [
            "<ipython-input-17-d8d657355a01>:1: RuntimeWarning: divide by zero encountered in log\n",
            "  np.log(y_predicted)\n"
          ]
        },
        {
          "output_type": "execute_result",
          "data": {
            "text/plain": [
              "array([  0.,   0., -inf, -inf,   0.])"
            ]
          },
          "metadata": {},
          "execution_count": 17
        }
      ]
    },
    {
      "cell_type": "code",
      "source": [
        "epsilon=1e-15"
      ],
      "metadata": {
        "id": "aPF7kgldFL_V"
      },
      "execution_count": 18,
      "outputs": []
    },
    {
      "cell_type": "code",
      "source": [
        "y_predicted_new=[min(i, 1-epsilon) for i in y_predicted]\n",
        "y_predicted_new"
      ],
      "metadata": {
        "colab": {
          "base_uri": "https://localhost:8080/"
        },
        "id": "s3K_--bYFXyF",
        "outputId": "fb6bff52-c7ab-4453-a55c-6b9b528b2918"
      },
      "execution_count": 34,
      "outputs": [
        {
          "output_type": "execute_result",
          "data": {
            "text/plain": [
              "[0.999999999999999, 0.999999999999999, 0, 0, 0.999999999999999]"
            ]
          },
          "metadata": {},
          "execution_count": 34
        }
      ]
    },
    {
      "cell_type": "code",
      "source": [
        "y_predicted_new=[max(i, epsilon) for i in y_predicted_new]\n",
        "y_predicted_new"
      ],
      "metadata": {
        "colab": {
          "base_uri": "https://localhost:8080/"
        },
        "id": "lDCsGAfSFq69",
        "outputId": "42041474-4d9e-479a-97f7-1a110a6221a0"
      },
      "execution_count": 35,
      "outputs": [
        {
          "output_type": "execute_result",
          "data": {
            "text/plain": [
              "[0.999999999999999, 0.999999999999999, 1e-15, 1e-15, 0.999999999999999]"
            ]
          },
          "metadata": {},
          "execution_count": 35
        }
      ]
    },
    {
      "cell_type": "code",
      "source": [
        "y_predicted_new=np.array(y_predicted_new)"
      ],
      "metadata": {
        "id": "G1fB8tMWHq69"
      },
      "execution_count": 36,
      "outputs": []
    },
    {
      "cell_type": "code",
      "source": [
        "-np.mean(y_true*np.log(y_predicted_new)+(1-y_true)*np.log(1-y_predicted_new))"
      ],
      "metadata": {
        "colab": {
          "base_uri": "https://localhost:8080/"
        },
        "id": "2MB1oY6oGBb1",
        "outputId": "fb90e343-730d-4352-eb4c-fbec8b07b340"
      },
      "execution_count": 28,
      "outputs": [
        {
          "output_type": "execute_result",
          "data": {
            "text/plain": [
              "17.2696280766844"
            ]
          },
          "metadata": {},
          "execution_count": 28
        }
      ]
    },
    {
      "cell_type": "code",
      "source": [
        "def log_loss(y_true, y_predicted):\n",
        "  y_predicted_new=[min(i, 1-epsilon) for i in y_predicted]\n",
        "  y_predicted_new=[max(i, epsilon) for i in y_predicted_new]\n",
        "  y_predicted_new=np.array(y_predicted_new)\n",
        "  print(-np.mean(y_true*np.log(y_predicted_new)+(1-y_true)*np.log(1-y_predicted_new)))"
      ],
      "metadata": {
        "id": "X0nEbL-pGd0p"
      },
      "execution_count": 32,
      "outputs": []
    },
    {
      "cell_type": "code",
      "source": [
        "log_loss(y_true, y_predicted)"
      ],
      "metadata": {
        "colab": {
          "base_uri": "https://localhost:8080/"
        },
        "id": "ZSjch7_fIQO1",
        "outputId": "14546a56-7bc3-43fa-d1fa-2944cf8a6a77"
      },
      "execution_count": 33,
      "outputs": [
        {
          "output_type": "stream",
          "name": "stdout",
          "text": [
            "17.2696280766844\n"
          ]
        }
      ]
    },
    {
      "cell_type": "code",
      "source": [],
      "metadata": {
        "id": "A8duipvSIY3J"
      },
      "execution_count": null,
      "outputs": []
    }
  ]
}